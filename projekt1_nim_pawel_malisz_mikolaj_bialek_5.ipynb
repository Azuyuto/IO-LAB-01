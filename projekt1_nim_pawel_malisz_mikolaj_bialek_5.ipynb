{
 "cells": [
  {
   "attachments": {},
   "cell_type": "markdown",
   "metadata": {},
   "source": [
    "## Projekt 1 - Nimby - Paweł Malisz, Mikołaj Białek - Ocena: 5"
   ]
  },
  {
   "attachments": {},
   "cell_type": "markdown",
   "metadata": {},
   "source": [
    "### Kod gry Nim z https://github.com/Zulko/easyAI"
   ]
  },
  {
   "cell_type": "code",
   "execution_count": 3,
   "metadata": {
    "colab": {
     "base_uri": "https://localhost:8080/"
    },
    "id": "mM4EgRLIJusr",
    "outputId": "ded73f7d-ebfb-48b4-8c88-1453f33bda2d"
   },
   "outputs": [],
   "source": [
    "from easyAI import TwoPlayerGame\n",
    "\n",
    "\n",
    "class Nim(TwoPlayerGame):\n",
    "    \"\"\"\n",
    "    The game starts with 4 piles of 5 pieces. In turn the players\n",
    "    remove as much pieces as they want, but from one pile only. The\n",
    "    player that removes the last piece loses.\n",
    "    Parameters\n",
    "    ----------\n",
    "    players\n",
    "      List of the two players e.g. [HumanPlayer(), HumanPlayer()]\n",
    "    piles:\n",
    "      The piles the game starts with. With piles=[2,3,4,4] the\n",
    "      game will start with 1 pile of 2 pieces, 1 pile of 3 pieces, and 2\n",
    "      piles of 4 pieces.\n",
    "    max_removals_per_turn\n",
    "      Max number of pieces you can remove in a turn. Default is no limit.\n",
    "    \"\"\"\n",
    "\n",
    "    def __init__(self, players=None, max_removals_per_turn=None, piles=(5, 5, 5, 5)):\n",
    "        \"\"\" Default for `piles` is 5 piles of 5 pieces. \"\"\"\n",
    "        self.players = players\n",
    "        self.piles = list(piles)\n",
    "        self.max_removals_per_turn = max_removals_per_turn\n",
    "        self.current_player = 1  # player 1 starts.\n",
    "\n",
    "    def possible_moves(self):\n",
    "        return [\n",
    "            \"%d,%d\" % (i + 1, j)\n",
    "            for i in range(len(self.piles))\n",
    "            for j in range(\n",
    "                1,\n",
    "                self.piles[i] + 1\n",
    "                if self.max_removals_per_turn is None\n",
    "                else min(self.piles[i] + 1, self.max_removals_per_turn),\n",
    "            )\n",
    "        ]\n",
    "\n",
    "    def make_move(self, move):\n",
    "        move = list(map(int, move.split(\",\")))\n",
    "        self.piles[move[0] - 1] -= move[1]\n",
    "\n",
    "    def unmake_move(self, move):  # optional, speeds up the AI\n",
    "        move = list(map(int, move.split(\",\")))\n",
    "        self.piles[move[0] - 1] += move[1]\n",
    "\n",
    "    def show(self):\n",
    "        print(\" \".join(map(str, self.piles)))\n",
    "\n",
    "    def win(self):\n",
    "        return max(self.piles) == 0\n",
    "\n",
    "    def is_over(self):\n",
    "        return self.win()\n",
    "\n",
    "    def scoring(self):\n",
    "        return 100 if self.win() else 0\n",
    "\n",
    "    def ttentry(self):\n",
    "        return tuple(self.piles)  # optional, speeds up AI"
   ]
  },
  {
   "attachments": {},
   "cell_type": "markdown",
   "metadata": {},
   "source": [
    "## Rozwiązanie gry\n",
    "\n",
    "W przeciwieństwie do kodu zaprezentowanego na githubie użuwamy przedziału głębokości (5,10) zamiast (5,20), żeby szybciej się to liczyło"
   ]
  },
  {
   "cell_type": "code",
   "execution_count": 23,
   "metadata": {},
   "outputs": [
    {
     "name": "stdout",
     "output_type": "stream",
     "text": [
      "d:5, a:0, m:1,1\n",
      "d:6, a:0, m:1,1\n",
      "d:7, a:0, m:1,1\n",
      "d:8, a:0, m:1,1\n",
      "d:9, a:0, m:1,1\n"
     ]
    }
   ],
   "source": [
    "from easyAI import AI_Player, Human_Player, Negamax, solve_with_iterative_deepening\n",
    "from easyAI.AI import TranspositionTable\n",
    "\n",
    "# we first solve the game\n",
    "w, d, m = solve_with_iterative_deepening(Nim(), range(5, 10), win_score=80)"
   ]
  },
  {
   "attachments": {},
   "cell_type": "markdown",
   "metadata": {},
   "source": [
    "## Rozegranie gry\n",
    "\n",
    "Zamiast wygenerowanej tablicy transpozycji używamy algorytmu Negamax"
   ]
  },
  {
   "cell_type": "code",
   "execution_count": 27,
   "metadata": {},
   "outputs": [
    {
     "name": "stdout",
     "output_type": "stream",
     "text": [
      "5 5 5 5\n",
      "\n",
      "Move #1: player 1 plays 1,1 :\n",
      "4 5 5 5\n",
      "\n",
      "Move #2: player 2 plays 1,1 :\n",
      "3 5 5 5\n"
     ]
    },
    {
     "ename": "KeyboardInterrupt",
     "evalue": "",
     "output_type": "error",
     "traceback": [
      "\u001b[1;31m---------------------------------------------------------------------------\u001b[0m",
      "\u001b[1;31mKeyboardInterrupt\u001b[0m                         Traceback (most recent call last)",
      "Cell \u001b[1;32mIn[27], line 3\u001b[0m\n\u001b[0;32m      1\u001b[0m ai \u001b[39m=\u001b[39m Negamax(\u001b[39m10\u001b[39m)\n\u001b[0;32m      2\u001b[0m game \u001b[39m=\u001b[39m Nim([AI_Player(ai), AI_Player(ai)])\n\u001b[1;32m----> 3\u001b[0m game\u001b[39m.\u001b[39;49mplay()\n\u001b[0;32m      4\u001b[0m \u001b[39mprint\u001b[39m(\u001b[39m\"\u001b[39m\u001b[39mplayer \u001b[39m\u001b[39m%d\u001b[39;00m\u001b[39m wins\u001b[39m\u001b[39m\"\u001b[39m \u001b[39m%\u001b[39m game\u001b[39m.\u001b[39mcurrent_player)\n",
      "File \u001b[1;32mc:\\Users\\Pawel\\AppData\\Local\\Programs\\Python\\Python311\\Lib\\site-packages\\easyAI\\TwoPlayerGame.py:110\u001b[0m, in \u001b[0;36mTwoPlayerGame.play\u001b[1;34m(self, nmoves, verbose)\u001b[0m\n\u001b[0;32m    107\u001b[0m \u001b[39mif\u001b[39;00m \u001b[39mself\u001b[39m\u001b[39m.\u001b[39mis_over():\n\u001b[0;32m    108\u001b[0m     \u001b[39mbreak\u001b[39;00m\n\u001b[1;32m--> 110\u001b[0m move \u001b[39m=\u001b[39m \u001b[39mself\u001b[39;49m\u001b[39m.\u001b[39;49mplayer\u001b[39m.\u001b[39;49mask_move(\u001b[39mself\u001b[39;49m)\n\u001b[0;32m    111\u001b[0m history\u001b[39m.\u001b[39mappend((deepcopy(\u001b[39mself\u001b[39m), move))\n\u001b[0;32m    112\u001b[0m \u001b[39mself\u001b[39m\u001b[39m.\u001b[39mmake_move(move)\n",
      "File \u001b[1;32mc:\\Users\\Pawel\\AppData\\Local\\Programs\\Python\\Python311\\Lib\\site-packages\\easyAI\\Player.py:63\u001b[0m, in \u001b[0;36mAI_Player.ask_move\u001b[1;34m(self, game)\u001b[0m\n\u001b[0;32m     62\u001b[0m \u001b[39mdef\u001b[39;00m \u001b[39mask_move\u001b[39m(\u001b[39mself\u001b[39m, game):\n\u001b[1;32m---> 63\u001b[0m     \u001b[39mreturn\u001b[39;00m \u001b[39mself\u001b[39;49m\u001b[39m.\u001b[39;49mAI_algo(game)\n",
      "File \u001b[1;32mc:\\Users\\Pawel\\AppData\\Local\\Programs\\Python\\Python311\\Lib\\site-packages\\easyAI\\AI\\Negamax.py:178\u001b[0m, in \u001b[0;36mNegamax.__call__\u001b[1;34m(self, game)\u001b[0m\n\u001b[0;32m    170\u001b[0m \u001b[39m\u001b[39m\u001b[39m\"\"\"\u001b[39;00m\n\u001b[0;32m    171\u001b[0m \u001b[39mReturns the AI's best move given the current state of the game.\u001b[39;00m\n\u001b[0;32m    172\u001b[0m \u001b[39m\"\"\"\u001b[39;00m\n\u001b[0;32m    174\u001b[0m scoring \u001b[39m=\u001b[39m (\n\u001b[0;32m    175\u001b[0m     \u001b[39mself\u001b[39m\u001b[39m.\u001b[39mscoring \u001b[39mif\u001b[39;00m \u001b[39mself\u001b[39m\u001b[39m.\u001b[39mscoring \u001b[39melse\u001b[39;00m (\u001b[39mlambda\u001b[39;00m g: g\u001b[39m.\u001b[39mscoring())\n\u001b[0;32m    176\u001b[0m )  \u001b[39m# horrible hack\u001b[39;00m\n\u001b[1;32m--> 178\u001b[0m \u001b[39mself\u001b[39m\u001b[39m.\u001b[39malpha \u001b[39m=\u001b[39m negamax(\n\u001b[0;32m    179\u001b[0m     game,\n\u001b[0;32m    180\u001b[0m     \u001b[39mself\u001b[39;49m\u001b[39m.\u001b[39;49mdepth,\n\u001b[0;32m    181\u001b[0m     \u001b[39mself\u001b[39;49m\u001b[39m.\u001b[39;49mdepth,\n\u001b[0;32m    182\u001b[0m     scoring,\n\u001b[0;32m    183\u001b[0m     \u001b[39m-\u001b[39;49m\u001b[39mself\u001b[39;49m\u001b[39m.\u001b[39;49mwin_score,\n\u001b[0;32m    184\u001b[0m     \u001b[39m+\u001b[39;49m\u001b[39mself\u001b[39;49m\u001b[39m.\u001b[39;49mwin_score,\n\u001b[0;32m    185\u001b[0m     \u001b[39mself\u001b[39;49m\u001b[39m.\u001b[39;49mtt,\n\u001b[0;32m    186\u001b[0m )\n\u001b[0;32m    187\u001b[0m \u001b[39mreturn\u001b[39;00m game\u001b[39m.\u001b[39mai_move\n",
      "File \u001b[1;32mc:\\Users\\Pawel\\AppData\\Local\\Programs\\Python\\Python311\\Lib\\site-packages\\easyAI\\AI\\Negamax.py:79\u001b[0m, in \u001b[0;36mnegamax\u001b[1;34m(game, depth, origDepth, scoring, alpha, beta, tt)\u001b[0m\n\u001b[0;32m     76\u001b[0m game\u001b[39m.\u001b[39mmake_move(move)\n\u001b[0;32m     77\u001b[0m game\u001b[39m.\u001b[39mswitch_player()\n\u001b[1;32m---> 79\u001b[0m move_alpha \u001b[39m=\u001b[39m \u001b[39m-\u001b[39mnegamax(game, depth \u001b[39m-\u001b[39;49m \u001b[39m1\u001b[39;49m, origDepth, scoring, \u001b[39m-\u001b[39;49mbeta, \u001b[39m-\u001b[39;49malpha, tt)\n\u001b[0;32m     81\u001b[0m \u001b[39mif\u001b[39;00m unmake_move:\n\u001b[0;32m     82\u001b[0m     game\u001b[39m.\u001b[39mswitch_player()\n",
      "File \u001b[1;32mc:\\Users\\Pawel\\AppData\\Local\\Programs\\Python\\Python311\\Lib\\site-packages\\easyAI\\AI\\Negamax.py:79\u001b[0m, in \u001b[0;36mnegamax\u001b[1;34m(game, depth, origDepth, scoring, alpha, beta, tt)\u001b[0m\n\u001b[0;32m     76\u001b[0m game\u001b[39m.\u001b[39mmake_move(move)\n\u001b[0;32m     77\u001b[0m game\u001b[39m.\u001b[39mswitch_player()\n\u001b[1;32m---> 79\u001b[0m move_alpha \u001b[39m=\u001b[39m \u001b[39m-\u001b[39mnegamax(game, depth \u001b[39m-\u001b[39;49m \u001b[39m1\u001b[39;49m, origDepth, scoring, \u001b[39m-\u001b[39;49mbeta, \u001b[39m-\u001b[39;49malpha, tt)\n\u001b[0;32m     81\u001b[0m \u001b[39mif\u001b[39;00m unmake_move:\n\u001b[0;32m     82\u001b[0m     game\u001b[39m.\u001b[39mswitch_player()\n",
      "    \u001b[1;31m[... skipping similar frames: negamax at line 79 (4 times)]\u001b[0m\n",
      "File \u001b[1;32mc:\\Users\\Pawel\\AppData\\Local\\Programs\\Python\\Python311\\Lib\\site-packages\\easyAI\\AI\\Negamax.py:79\u001b[0m, in \u001b[0;36mnegamax\u001b[1;34m(game, depth, origDepth, scoring, alpha, beta, tt)\u001b[0m\n\u001b[0;32m     76\u001b[0m game\u001b[39m.\u001b[39mmake_move(move)\n\u001b[0;32m     77\u001b[0m game\u001b[39m.\u001b[39mswitch_player()\n\u001b[1;32m---> 79\u001b[0m move_alpha \u001b[39m=\u001b[39m \u001b[39m-\u001b[39mnegamax(game, depth \u001b[39m-\u001b[39;49m \u001b[39m1\u001b[39;49m, origDepth, scoring, \u001b[39m-\u001b[39;49mbeta, \u001b[39m-\u001b[39;49malpha, tt)\n\u001b[0;32m     81\u001b[0m \u001b[39mif\u001b[39;00m unmake_move:\n\u001b[0;32m     82\u001b[0m     game\u001b[39m.\u001b[39mswitch_player()\n",
      "File \u001b[1;32mc:\\Users\\Pawel\\AppData\\Local\\Programs\\Python\\Python311\\Lib\\site-packages\\easyAI\\AI\\Negamax.py:61\u001b[0m, in \u001b[0;36mnegamax\u001b[1;34m(game, depth, origDepth, scoring, alpha, beta, tt)\u001b[0m\n\u001b[0;32m     57\u001b[0m     possible_moves \u001b[39m=\u001b[39m [lookup[\u001b[39m\"\u001b[39m\u001b[39mmove\u001b[39m\u001b[39m\"\u001b[39m]] \u001b[39m+\u001b[39m possible_moves\n\u001b[0;32m     59\u001b[0m \u001b[39melse\u001b[39;00m:\n\u001b[1;32m---> 61\u001b[0m     possible_moves \u001b[39m=\u001b[39m game\u001b[39m.\u001b[39;49mpossible_moves()\n\u001b[0;32m     63\u001b[0m state \u001b[39m=\u001b[39m game\n\u001b[0;32m     64\u001b[0m best_move \u001b[39m=\u001b[39m possible_moves[\u001b[39m0\u001b[39m]\n",
      "Cell \u001b[1;32mIn[3], line 29\u001b[0m, in \u001b[0;36mNim.possible_moves\u001b[1;34m(self)\u001b[0m\n\u001b[0;32m     28\u001b[0m \u001b[39mdef\u001b[39;00m \u001b[39mpossible_moves\u001b[39m(\u001b[39mself\u001b[39m):\n\u001b[1;32m---> 29\u001b[0m     \u001b[39mreturn\u001b[39;00m [\n\u001b[0;32m     30\u001b[0m         \u001b[39m\"\u001b[39;49m\u001b[39m%d\u001b[39;49;00m\u001b[39m,\u001b[39;49m\u001b[39m%d\u001b[39;49;00m\u001b[39m\"\u001b[39;49m \u001b[39m%\u001b[39;49m (i \u001b[39m+\u001b[39;49m \u001b[39m1\u001b[39;49m, j)\n\u001b[0;32m     31\u001b[0m         \u001b[39mfor\u001b[39;49;00m i \u001b[39min\u001b[39;49;00m \u001b[39mrange\u001b[39;49m(\u001b[39mlen\u001b[39;49m(\u001b[39mself\u001b[39;49m\u001b[39m.\u001b[39;49mpiles))\n\u001b[0;32m     32\u001b[0m         \u001b[39mfor\u001b[39;49;00m j \u001b[39min\u001b[39;49;00m \u001b[39mrange\u001b[39;49m(\n\u001b[0;32m     33\u001b[0m             \u001b[39m1\u001b[39;49m,\n\u001b[0;32m     34\u001b[0m             \u001b[39mself\u001b[39;49m\u001b[39m.\u001b[39;49mpiles[i] \u001b[39m+\u001b[39;49m \u001b[39m1\u001b[39;49m\n\u001b[0;32m     35\u001b[0m             \u001b[39mif\u001b[39;49;00m \u001b[39mself\u001b[39;49m\u001b[39m.\u001b[39;49mmax_removals_per_turn \u001b[39mis\u001b[39;49;00m \u001b[39mNone\u001b[39;49;00m\n\u001b[0;32m     36\u001b[0m             \u001b[39melse\u001b[39;49;00m \u001b[39mmin\u001b[39;49m(\u001b[39mself\u001b[39;49m\u001b[39m.\u001b[39;49mpiles[i] \u001b[39m+\u001b[39;49m \u001b[39m1\u001b[39;49m, \u001b[39mself\u001b[39;49m\u001b[39m.\u001b[39;49mmax_removals_per_turn),\n\u001b[0;32m     37\u001b[0m         )\n\u001b[0;32m     38\u001b[0m     ]\n",
      "Cell \u001b[1;32mIn[3], line 30\u001b[0m, in \u001b[0;36m<listcomp>\u001b[1;34m(.0)\u001b[0m\n\u001b[0;32m     28\u001b[0m \u001b[39mdef\u001b[39;00m \u001b[39mpossible_moves\u001b[39m(\u001b[39mself\u001b[39m):\n\u001b[0;32m     29\u001b[0m     \u001b[39mreturn\u001b[39;00m [\n\u001b[1;32m---> 30\u001b[0m         \u001b[39m\"\u001b[39;49m\u001b[39m%d\u001b[39;49;00m\u001b[39m,\u001b[39;49m\u001b[39m%d\u001b[39;49;00m\u001b[39m\"\u001b[39;49m \u001b[39m%\u001b[39;49m (i \u001b[39m+\u001b[39;49m \u001b[39m1\u001b[39;49m, j)\n\u001b[0;32m     31\u001b[0m         \u001b[39mfor\u001b[39;00m i \u001b[39min\u001b[39;00m \u001b[39mrange\u001b[39m(\u001b[39mlen\u001b[39m(\u001b[39mself\u001b[39m\u001b[39m.\u001b[39mpiles))\n\u001b[0;32m     32\u001b[0m         \u001b[39mfor\u001b[39;00m j \u001b[39min\u001b[39;00m \u001b[39mrange\u001b[39m(\n\u001b[0;32m     33\u001b[0m             \u001b[39m1\u001b[39m,\n\u001b[0;32m     34\u001b[0m             \u001b[39mself\u001b[39m\u001b[39m.\u001b[39mpiles[i] \u001b[39m+\u001b[39m \u001b[39m1\u001b[39m\n\u001b[0;32m     35\u001b[0m             \u001b[39mif\u001b[39;00m \u001b[39mself\u001b[39m\u001b[39m.\u001b[39mmax_removals_per_turn \u001b[39mis\u001b[39;00m \u001b[39mNone\u001b[39;00m\n\u001b[0;32m     36\u001b[0m             \u001b[39melse\u001b[39;00m \u001b[39mmin\u001b[39m(\u001b[39mself\u001b[39m\u001b[39m.\u001b[39mpiles[i] \u001b[39m+\u001b[39m \u001b[39m1\u001b[39m, \u001b[39mself\u001b[39m\u001b[39m.\u001b[39mmax_removals_per_turn),\n\u001b[0;32m     37\u001b[0m         )\n\u001b[0;32m     38\u001b[0m     ]\n",
      "\u001b[1;31mKeyboardInterrupt\u001b[0m: "
     ]
    }
   ],
   "source": [
    "for i in range(10):\n",
    "    ai = Negamax(8)\n",
    "    game = Nim([AI_Player(ai), AI_Player(ai)])\n",
    "    game.play()\n",
    "    print(\"player %d wins\" % game.current_player)"
   ]
  }
 ],
 "metadata": {
  "colab": {
   "name": "easyAI.ipynb",
   "provenance": []
  },
  "kernelspec": {
   "display_name": "Python 3",
   "language": "python",
   "name": "python3"
  },
  "language_info": {
   "codemirror_mode": {
    "name": "ipython",
    "version": 3
   },
   "file_extension": ".py",
   "mimetype": "text/x-python",
   "name": "python",
   "nbconvert_exporter": "python",
   "pygments_lexer": "ipython3",
   "version": "3.11.1"
  },
  "vscode": {
   "interpreter": {
    "hash": "0d480406dd8a32d22dc75985cac8e1211765e55c9913550b2d5a12bfc4726c1d"
   }
  }
 },
 "nbformat": 4,
 "nbformat_minor": 1
}
