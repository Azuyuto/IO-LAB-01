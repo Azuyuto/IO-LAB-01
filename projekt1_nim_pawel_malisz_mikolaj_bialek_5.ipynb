{
 "cells": [
  {
   "attachments": {},
   "cell_type": "markdown",
   "metadata": {},
   "source": [
    "## Projekt 1 - Nimby - Paweł Malisz, Mikołaj Białek - Ocena: 5"
   ]
  },
  {
   "attachments": {},
   "cell_type": "markdown",
   "metadata": {},
   "source": [
    "### Kod gry Nim z https://github.com/Zulko/easyAI"
   ]
  },
  {
   "cell_type": "code",
   "execution_count": 3,
   "metadata": {
    "colab": {
     "base_uri": "https://localhost:8080/"
    },
    "id": "mM4EgRLIJusr",
    "outputId": "ded73f7d-ebfb-48b4-8c88-1453f33bda2d"
   },
   "outputs": [],
   "source": [
    "from easyAI import TwoPlayerGame\n",
    "\n",
    "\n",
    "class Nim(TwoPlayerGame):\n",
    "    \"\"\"\n",
    "    The game starts with 4 piles of 5 pieces. In turn the players\n",
    "    remove as much pieces as they want, but from one pile only. The\n",
    "    player that removes the last piece loses.\n",
    "    Parameters\n",
    "    ----------\n",
    "    players\n",
    "      List of the two players e.g. [HumanPlayer(), HumanPlayer()]\n",
    "    piles:\n",
    "      The piles the game starts with. With piles=[2,3,4,4] the\n",
    "      game will start with 1 pile of 2 pieces, 1 pile of 3 pieces, and 2\n",
    "      piles of 4 pieces.\n",
    "    max_removals_per_turn\n",
    "      Max number of pieces you can remove in a turn. Default is no limit.\n",
    "    \"\"\"\n",
    "\n",
    "    def __init__(self, players=None, max_removals_per_turn=None, piles=(5, 5, 5, 5)):\n",
    "        \"\"\" Default for `piles` is 5 piles of 5 pieces. \"\"\"\n",
    "        self.players = players\n",
    "        self.piles = list(piles)\n",
    "        self.max_removals_per_turn = max_removals_per_turn\n",
    "        self.current_player = 1  # player 1 starts.\n",
    "\n",
    "    def possible_moves(self):\n",
    "        return [\n",
    "            \"%d,%d\" % (i + 1, j)\n",
    "            for i in range(len(self.piles))\n",
    "            for j in range(\n",
    "                1,\n",
    "                self.piles[i] + 1\n",
    "                if self.max_removals_per_turn is None\n",
    "                else min(self.piles[i] + 1, self.max_removals_per_turn),\n",
    "            )\n",
    "        ]\n",
    "\n",
    "    def make_move(self, move):\n",
    "        move = list(map(int, move.split(\",\")))\n",
    "        self.piles[move[0] - 1] -= move[1]\n",
    "\n",
    "    def unmake_move(self, move):  # optional, speeds up the AI\n",
    "        move = list(map(int, move.split(\",\")))\n",
    "        self.piles[move[0] - 1] += move[1]\n",
    "\n",
    "    def show(self):\n",
    "        print(\" \".join(map(str, self.piles)))\n",
    "\n",
    "    def win(self):\n",
    "        return max(self.piles) == 0\n",
    "\n",
    "    def is_over(self):\n",
    "        return self.win()\n",
    "\n",
    "    def scoring(self):\n",
    "        return 100 if self.win() else 0\n",
    "\n",
    "    def ttentry(self):\n",
    "        return tuple(self.piles)  # optional, speeds up AI"
   ]
  },
  {
   "attachments": {},
   "cell_type": "markdown",
   "metadata": {},
   "source": [
    "### Wersja gry z 10% szansą wzięcia 1 elementu mniej niż zamierzano"
   ]
  },
  {
   "cell_type": "code",
   "execution_count": 28,
   "metadata": {},
   "outputs": [],
   "source": [
    "import random\n",
    "\n",
    "class MissNim(Nim):\n",
    "    def make_move(self, move):\n",
    "        move = list(map(int, move.split(\",\")))\n",
    "        m = move[1] - 1 if random.randint(1, 10) == 1 else move[1]\n",
    "        self.piles[move[0] - 1] -= m"
   ]
  },
  {
   "attachments": {},
   "cell_type": "markdown",
   "metadata": {},
   "source": [
    "## Rozwiązanie gry\n",
    "\n",
    "W przeciwieństwie do kodu zaprezentowanego na githubie użuwamy przedziału głębokości (5,10) zamiast (5,20), żeby szybciej się to liczyło"
   ]
  },
  {
   "cell_type": "code",
   "execution_count": 23,
   "metadata": {},
   "outputs": [
    {
     "name": "stdout",
     "output_type": "stream",
     "text": [
      "d:5, a:0, m:1,1\n",
      "d:6, a:0, m:1,1\n",
      "d:7, a:0, m:1,1\n",
      "d:8, a:0, m:1,1\n",
      "d:9, a:0, m:1,1\n"
     ]
    }
   ],
   "source": [
    "from easyAI import AI_Player, Human_Player, Negamax, solve_with_iterative_deepening\n",
    "from easyAI.AI import TranspositionTable\n",
    "\n",
    "# we first solve the game\n",
    "w, d, m = solve_with_iterative_deepening(Nim(), range(5, 10), win_score=80)"
   ]
  },
  {
   "attachments": {},
   "cell_type": "markdown",
   "metadata": {},
   "source": [
    "## Rozegranie gry\n",
    "\n",
    "Zamiast wygenerowanej tablicy transpozycji używamy algorytmu Negamax"
   ]
  },
  {
   "cell_type": "code",
   "execution_count": null,
   "metadata": {},
   "outputs": [],
   "source": [
    "for i in range(10):\n",
    "    ai = Negamax(8)\n",
    "    game = MissNim([AI_Player(ai), AI_Player(ai)])\n",
    "    game.play()\n",
    "    print(\"player %d wins\" % game.current_player)"
   ]
  }
 ],
 "metadata": {
  "colab": {
   "name": "easyAI.ipynb",
   "provenance": []
  },
  "kernelspec": {
   "display_name": "Python 3",
   "language": "python",
   "name": "python3"
  },
  "language_info": {
   "codemirror_mode": {
    "name": "ipython",
    "version": 3
   },
   "file_extension": ".py",
   "mimetype": "text/x-python",
   "name": "python",
   "nbconvert_exporter": "python",
   "pygments_lexer": "ipython3",
   "version": "3.11.1"
  },
  "vscode": {
   "interpreter": {
    "hash": "0d480406dd8a32d22dc75985cac8e1211765e55c9913550b2d5a12bfc4726c1d"
   }
  }
 },
 "nbformat": 4,
 "nbformat_minor": 1
}
