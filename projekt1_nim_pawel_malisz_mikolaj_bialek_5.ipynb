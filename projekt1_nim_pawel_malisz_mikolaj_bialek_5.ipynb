{
 "cells": [
  {
   "cell_type": "code",
   "execution_count": null,
   "metadata": {
    "colab": {
     "base_uri": "https://localhost:8080/"
    },
    "id": "mM4EgRLIJusr",
    "outputId": "ded73f7d-ebfb-48b4-8c88-1453f33bda2d"
   },
   "outputs": [],
   "source": [
    "from easyAI import TwoPlayerGame\n",
    "\n",
    "\n",
    "class Nim(TwoPlayerGame):\n",
    "    \"\"\"\n",
    "    The game starts with 4 piles of 5 pieces. In turn the players\n",
    "    remove as much pieces as they want, but from one pile only. The\n",
    "    player that removes the last piece loses.\n",
    "    Parameters\n",
    "    ----------\n",
    "    players\n",
    "      List of the two players e.g. [HumanPlayer(), HumanPlayer()]\n",
    "    piles:\n",
    "      The piles the game starts with. With piles=[2,3,4,4] the\n",
    "      game will start with 1 pile of 2 pieces, 1 pile of 3 pieces, and 2\n",
    "      piles of 4 pieces.\n",
    "    max_removals_per_turn\n",
    "      Max number of pieces you can remove in a turn. Default is no limit.\n",
    "    \"\"\"\n",
    "\n",
    "    def __init__(self, players=None, max_removals_per_turn=None, piles=(5, 5, 5, 5)):\n",
    "        \"\"\" Default for `piles` is 5 piles of 5 pieces. \"\"\"\n",
    "        self.players = players\n",
    "        self.piles = list(piles)\n",
    "        self.max_removals_per_turn = max_removals_per_turn\n",
    "        self.current_player = 1  # player 1 starts.\n",
    "\n",
    "    def possible_moves(self):\n",
    "        return [\n",
    "            \"%d,%d\" % (i + 1, j)\n",
    "            for i in range(len(self.piles))\n",
    "            for j in range(\n",
    "                1,\n",
    "                self.piles[i] + 1\n",
    "                if self.max_removals_per_turn is None\n",
    "                else min(self.piles[i] + 1, self.max_removals_per_turn),\n",
    "            )\n",
    "        ]\n",
    "\n",
    "    def make_move(self, move):\n",
    "        move = list(map(int, move.split(\",\")))\n",
    "        self.piles[move[0] - 1] -= move[1]\n",
    "\n",
    "    def unmake_move(self, move):  # optional, speeds up the AI\n",
    "        move = list(map(int, move.split(\",\")))\n",
    "        self.piles[move[0] - 1] += move[1]\n",
    "\n",
    "    def show(self):\n",
    "        print(\" \".join(map(str, self.piles)))\n",
    "\n",
    "    def win(self):\n",
    "        return max(self.piles) == 0\n",
    "\n",
    "    def is_over(self):\n",
    "        return self.win()\n",
    "\n",
    "    def scoring(self):\n",
    "        return 100 if self.win() else 0\n",
    "\n",
    "    def ttentry(self):\n",
    "        return tuple(self.piles)  # optional, speeds up AI"
   ]
  },
  {
   "cell_type": "code",
   "execution_count": 12,
   "metadata": {},
   "outputs": [],
   "source": [
    "from easyAI import TwoPlayerGame\n",
    "import random\n",
    "\n",
    "class MissNim(Nim):\n",
    "    def make_move(self, move):\n",
    "        move = list(map(int, move.split(\",\")))\n",
    "        m = (1 if self.piles[move[0] - 1] == 1 else move[1] + 1) if random.randint(1, 10) == 1 else move[1]\n",
    "        self.piles[move[0] - 1] -= m"
   ]
  },
  {
   "cell_type": "code",
   "execution_count": 14,
   "metadata": {},
   "outputs": [
    {
     "name": "stdout",
     "output_type": "stream",
     "text": [
      "d:5, a:0, m:1,1\n",
      "d:6, a:0, m:1,1\n",
      "d:7, a:0, m:1,1\n",
      "d:8, a:0, m:1,1\n",
      "d:9, a:0, m:1,1\n"
     ]
    },
    {
     "ename": "KeyboardInterrupt",
     "evalue": "",
     "output_type": "error",
     "traceback": [
      "\u001b[1;31m---------------------------------------------------------------------------\u001b[0m",
      "\u001b[1;31mKeyboardInterrupt\u001b[0m                         Traceback (most recent call last)",
      "\u001b[1;32mc:\\Users\\User\\Documents\\source.git\\IO-LAB-01\\projekt1_nim_pawel_malisz_mikolaj_bialek_5.ipynb Cell 3'\u001b[0m in \u001b[0;36m<cell line: 1>\u001b[1;34m()\u001b[0m\n\u001b[0;32m      <a href='vscode-notebook-cell:/c%3A/Users/User/Documents/source.git/IO-LAB-01/projekt1_nim_pawel_malisz_mikolaj_bialek_5.ipynb#ch0000001?line=4'>5</a>\u001b[0m \u001b[39mfrom\u001b[39;00m \u001b[39measyAI\u001b[39;00m\u001b[39m.\u001b[39;00m\u001b[39mAI\u001b[39;00m \u001b[39mimport\u001b[39;00m TranspositionTable\n\u001b[0;32m      <a href='vscode-notebook-cell:/c%3A/Users/User/Documents/source.git/IO-LAB-01/projekt1_nim_pawel_malisz_mikolaj_bialek_5.ipynb#ch0000001?line=6'>7</a>\u001b[0m \u001b[39m# we first solve the game\u001b[39;00m\n\u001b[1;32m----> <a href='vscode-notebook-cell:/c%3A/Users/User/Documents/source.git/IO-LAB-01/projekt1_nim_pawel_malisz_mikolaj_bialek_5.ipynb#ch0000001?line=7'>8</a>\u001b[0m w, d, m, tt \u001b[39m=\u001b[39m solve_with_iterative_deepening(Nim(), \u001b[39mrange\u001b[39;49m(\u001b[39m5\u001b[39;49m, \u001b[39m20\u001b[39;49m), win_score\u001b[39m=\u001b[39;49m\u001b[39m80\u001b[39;49m)\n\u001b[0;32m      <a href='vscode-notebook-cell:/c%3A/Users/User/Documents/source.git/IO-LAB-01/projekt1_nim_pawel_malisz_mikolaj_bialek_5.ipynb#ch0000001?line=8'>9</a>\u001b[0m w, d, \u001b[39mlen\u001b[39m(tt\u001b[39m.\u001b[39md)\n\u001b[0;32m     <a href='vscode-notebook-cell:/c%3A/Users/User/Documents/source.git/IO-LAB-01/projekt1_nim_pawel_malisz_mikolaj_bialek_5.ipynb#ch0000001?line=9'>10</a>\u001b[0m \u001b[39m# the previous line prints -1, 16 which shows that if the\u001b[39;00m\n\u001b[0;32m     <a href='vscode-notebook-cell:/c%3A/Users/User/Documents/source.git/IO-LAB-01/projekt1_nim_pawel_malisz_mikolaj_bialek_5.ipynb#ch0000001?line=10'>11</a>\u001b[0m \u001b[39m# computer plays second with an AI depth of 16 (or 15) it will\u001b[39;00m\n\u001b[0;32m     <a href='vscode-notebook-cell:/c%3A/Users/User/Documents/source.git/IO-LAB-01/projekt1_nim_pawel_malisz_mikolaj_bialek_5.ipynb#ch0000001?line=11'>12</a>\u001b[0m \u001b[39m# always win in 16 (total) moves or less.\u001b[39;00m\n\u001b[0;32m     <a href='vscode-notebook-cell:/c%3A/Users/User/Documents/source.git/IO-LAB-01/projekt1_nim_pawel_malisz_mikolaj_bialek_5.ipynb#ch0000001?line=12'>13</a>\u001b[0m \n\u001b[0;32m     <a href='vscode-notebook-cell:/c%3A/Users/User/Documents/source.git/IO-LAB-01/projekt1_nim_pawel_malisz_mikolaj_bialek_5.ipynb#ch0000001?line=13'>14</a>\u001b[0m \u001b[39m# Now let's play (and lose !) against the AI\u001b[39;00m\n",
      "File \u001b[1;32mC:\\Python310\\lib\\site-packages\\easyAI\\AI\\solving.py:73\u001b[0m, in \u001b[0;36msolve_with_iterative_deepening\u001b[1;34m(game, ai_depths, win_score, scoring, tt, verbose, **game_params)\u001b[0m\n\u001b[0;32m     <a href='file:///c%3A/Python310/lib/site-packages/easyAI/AI/solving.py?line=70'>71</a>\u001b[0m \u001b[39mfor\u001b[39;00m depth \u001b[39min\u001b[39;00m ai_depths:\n\u001b[0;32m     <a href='file:///c%3A/Python310/lib/site-packages/easyAI/AI/solving.py?line=71'>72</a>\u001b[0m     ai \u001b[39m=\u001b[39m Negamax(depth, scoring, tt\u001b[39m=\u001b[39mtt)\n\u001b[1;32m---> <a href='file:///c%3A/Python310/lib/site-packages/easyAI/AI/solving.py?line=72'>73</a>\u001b[0m     ai(game)\n\u001b[0;32m     <a href='file:///c%3A/Python310/lib/site-packages/easyAI/AI/solving.py?line=73'>74</a>\u001b[0m     alpha \u001b[39m=\u001b[39m ai\u001b[39m.\u001b[39malpha\n\u001b[0;32m     <a href='file:///c%3A/Python310/lib/site-packages/easyAI/AI/solving.py?line=74'>75</a>\u001b[0m     \u001b[39mif\u001b[39;00m verbose:\n",
      "File \u001b[1;32mC:\\Python310\\lib\\site-packages\\easyAI\\AI\\Negamax.py:178\u001b[0m, in \u001b[0;36mNegamax.__call__\u001b[1;34m(self, game)\u001b[0m\n\u001b[0;32m    <a href='file:///c%3A/Python310/lib/site-packages/easyAI/AI/Negamax.py?line=169'>170</a>\u001b[0m \u001b[39m\"\"\"\u001b[39;00m\n\u001b[0;32m    <a href='file:///c%3A/Python310/lib/site-packages/easyAI/AI/Negamax.py?line=170'>171</a>\u001b[0m \u001b[39mReturns the AI's best move given the current state of the game.\u001b[39;00m\n\u001b[0;32m    <a href='file:///c%3A/Python310/lib/site-packages/easyAI/AI/Negamax.py?line=171'>172</a>\u001b[0m \u001b[39m\"\"\"\u001b[39;00m\n\u001b[0;32m    <a href='file:///c%3A/Python310/lib/site-packages/easyAI/AI/Negamax.py?line=173'>174</a>\u001b[0m scoring \u001b[39m=\u001b[39m (\n\u001b[0;32m    <a href='file:///c%3A/Python310/lib/site-packages/easyAI/AI/Negamax.py?line=174'>175</a>\u001b[0m     \u001b[39mself\u001b[39m\u001b[39m.\u001b[39mscoring \u001b[39mif\u001b[39;00m \u001b[39mself\u001b[39m\u001b[39m.\u001b[39mscoring \u001b[39melse\u001b[39;00m (\u001b[39mlambda\u001b[39;00m g: g\u001b[39m.\u001b[39mscoring())\n\u001b[0;32m    <a href='file:///c%3A/Python310/lib/site-packages/easyAI/AI/Negamax.py?line=175'>176</a>\u001b[0m )  \u001b[39m# horrible hack\u001b[39;00m\n\u001b[1;32m--> <a href='file:///c%3A/Python310/lib/site-packages/easyAI/AI/Negamax.py?line=177'>178</a>\u001b[0m \u001b[39mself\u001b[39m\u001b[39m.\u001b[39malpha \u001b[39m=\u001b[39m negamax(\n\u001b[0;32m    <a href='file:///c%3A/Python310/lib/site-packages/easyAI/AI/Negamax.py?line=178'>179</a>\u001b[0m     game,\n\u001b[0;32m    <a href='file:///c%3A/Python310/lib/site-packages/easyAI/AI/Negamax.py?line=179'>180</a>\u001b[0m     \u001b[39mself\u001b[39;49m\u001b[39m.\u001b[39;49mdepth,\n\u001b[0;32m    <a href='file:///c%3A/Python310/lib/site-packages/easyAI/AI/Negamax.py?line=180'>181</a>\u001b[0m     \u001b[39mself\u001b[39;49m\u001b[39m.\u001b[39;49mdepth,\n\u001b[0;32m    <a href='file:///c%3A/Python310/lib/site-packages/easyAI/AI/Negamax.py?line=181'>182</a>\u001b[0m     scoring,\n\u001b[0;32m    <a href='file:///c%3A/Python310/lib/site-packages/easyAI/AI/Negamax.py?line=182'>183</a>\u001b[0m     \u001b[39m-\u001b[39;49m\u001b[39mself\u001b[39;49m\u001b[39m.\u001b[39;49mwin_score,\n\u001b[0;32m    <a href='file:///c%3A/Python310/lib/site-packages/easyAI/AI/Negamax.py?line=183'>184</a>\u001b[0m     \u001b[39m+\u001b[39;49m\u001b[39mself\u001b[39;49m\u001b[39m.\u001b[39;49mwin_score,\n\u001b[0;32m    <a href='file:///c%3A/Python310/lib/site-packages/easyAI/AI/Negamax.py?line=184'>185</a>\u001b[0m     \u001b[39mself\u001b[39;49m\u001b[39m.\u001b[39;49mtt,\n\u001b[0;32m    <a href='file:///c%3A/Python310/lib/site-packages/easyAI/AI/Negamax.py?line=185'>186</a>\u001b[0m )\n\u001b[0;32m    <a href='file:///c%3A/Python310/lib/site-packages/easyAI/AI/Negamax.py?line=186'>187</a>\u001b[0m \u001b[39mreturn\u001b[39;00m game\u001b[39m.\u001b[39mai_move\n",
      "File \u001b[1;32mC:\\Python310\\lib\\site-packages\\easyAI\\AI\\Negamax.py:79\u001b[0m, in \u001b[0;36mnegamax\u001b[1;34m(game, depth, origDepth, scoring, alpha, beta, tt)\u001b[0m\n\u001b[0;32m     <a href='file:///c%3A/Python310/lib/site-packages/easyAI/AI/Negamax.py?line=75'>76</a>\u001b[0m game\u001b[39m.\u001b[39mmake_move(move)\n\u001b[0;32m     <a href='file:///c%3A/Python310/lib/site-packages/easyAI/AI/Negamax.py?line=76'>77</a>\u001b[0m game\u001b[39m.\u001b[39mswitch_player()\n\u001b[1;32m---> <a href='file:///c%3A/Python310/lib/site-packages/easyAI/AI/Negamax.py?line=78'>79</a>\u001b[0m move_alpha \u001b[39m=\u001b[39m \u001b[39m-\u001b[39mnegamax(game, depth \u001b[39m-\u001b[39;49m \u001b[39m1\u001b[39;49m, origDepth, scoring, \u001b[39m-\u001b[39;49mbeta, \u001b[39m-\u001b[39;49malpha, tt)\n\u001b[0;32m     <a href='file:///c%3A/Python310/lib/site-packages/easyAI/AI/Negamax.py?line=80'>81</a>\u001b[0m \u001b[39mif\u001b[39;00m unmake_move:\n\u001b[0;32m     <a href='file:///c%3A/Python310/lib/site-packages/easyAI/AI/Negamax.py?line=81'>82</a>\u001b[0m     game\u001b[39m.\u001b[39mswitch_player()\n",
      "File \u001b[1;32mC:\\Python310\\lib\\site-packages\\easyAI\\AI\\Negamax.py:79\u001b[0m, in \u001b[0;36mnegamax\u001b[1;34m(game, depth, origDepth, scoring, alpha, beta, tt)\u001b[0m\n\u001b[0;32m     <a href='file:///c%3A/Python310/lib/site-packages/easyAI/AI/Negamax.py?line=75'>76</a>\u001b[0m game\u001b[39m.\u001b[39mmake_move(move)\n\u001b[0;32m     <a href='file:///c%3A/Python310/lib/site-packages/easyAI/AI/Negamax.py?line=76'>77</a>\u001b[0m game\u001b[39m.\u001b[39mswitch_player()\n\u001b[1;32m---> <a href='file:///c%3A/Python310/lib/site-packages/easyAI/AI/Negamax.py?line=78'>79</a>\u001b[0m move_alpha \u001b[39m=\u001b[39m \u001b[39m-\u001b[39mnegamax(game, depth \u001b[39m-\u001b[39;49m \u001b[39m1\u001b[39;49m, origDepth, scoring, \u001b[39m-\u001b[39;49mbeta, \u001b[39m-\u001b[39;49malpha, tt)\n\u001b[0;32m     <a href='file:///c%3A/Python310/lib/site-packages/easyAI/AI/Negamax.py?line=80'>81</a>\u001b[0m \u001b[39mif\u001b[39;00m unmake_move:\n\u001b[0;32m     <a href='file:///c%3A/Python310/lib/site-packages/easyAI/AI/Negamax.py?line=81'>82</a>\u001b[0m     game\u001b[39m.\u001b[39mswitch_player()\n",
      "    \u001b[1;31m[... skipping similar frames: negamax at line 79 (5 times)]\u001b[0m\n",
      "File \u001b[1;32mC:\\Python310\\lib\\site-packages\\easyAI\\AI\\Negamax.py:79\u001b[0m, in \u001b[0;36mnegamax\u001b[1;34m(game, depth, origDepth, scoring, alpha, beta, tt)\u001b[0m\n\u001b[0;32m     <a href='file:///c%3A/Python310/lib/site-packages/easyAI/AI/Negamax.py?line=75'>76</a>\u001b[0m game\u001b[39m.\u001b[39mmake_move(move)\n\u001b[0;32m     <a href='file:///c%3A/Python310/lib/site-packages/easyAI/AI/Negamax.py?line=76'>77</a>\u001b[0m game\u001b[39m.\u001b[39mswitch_player()\n\u001b[1;32m---> <a href='file:///c%3A/Python310/lib/site-packages/easyAI/AI/Negamax.py?line=78'>79</a>\u001b[0m move_alpha \u001b[39m=\u001b[39m \u001b[39m-\u001b[39mnegamax(game, depth \u001b[39m-\u001b[39;49m \u001b[39m1\u001b[39;49m, origDepth, scoring, \u001b[39m-\u001b[39;49mbeta, \u001b[39m-\u001b[39;49malpha, tt)\n\u001b[0;32m     <a href='file:///c%3A/Python310/lib/site-packages/easyAI/AI/Negamax.py?line=80'>81</a>\u001b[0m \u001b[39mif\u001b[39;00m unmake_move:\n\u001b[0;32m     <a href='file:///c%3A/Python310/lib/site-packages/easyAI/AI/Negamax.py?line=81'>82</a>\u001b[0m     game\u001b[39m.\u001b[39mswitch_player()\n",
      "File \u001b[1;32mC:\\Python310\\lib\\site-packages\\easyAI\\AI\\Negamax.py:45\u001b[0m, in \u001b[0;36mnegamax\u001b[1;34m(game, depth, origDepth, scoring, alpha, beta, tt)\u001b[0m\n\u001b[0;32m     <a href='file:///c%3A/Python310/lib/site-packages/easyAI/AI/Negamax.py?line=41'>42</a>\u001b[0m                 game\u001b[39m.\u001b[39mai_move \u001b[39m=\u001b[39m lookup[\u001b[39m\"\u001b[39m\u001b[39mmove\u001b[39m\u001b[39m\"\u001b[39m]\n\u001b[0;32m     <a href='file:///c%3A/Python310/lib/site-packages/easyAI/AI/Negamax.py?line=42'>43</a>\u001b[0m             \u001b[39mreturn\u001b[39;00m value\n\u001b[1;32m---> <a href='file:///c%3A/Python310/lib/site-packages/easyAI/AI/Negamax.py?line=44'>45</a>\u001b[0m \u001b[39mif\u001b[39;00m (depth \u001b[39m==\u001b[39m \u001b[39m0\u001b[39m) \u001b[39mor\u001b[39;00m game\u001b[39m.\u001b[39mis_over():\n\u001b[0;32m     <a href='file:///c%3A/Python310/lib/site-packages/easyAI/AI/Negamax.py?line=45'>46</a>\u001b[0m     \u001b[39m# NOTE: the \"depth\" variable represents the depth left to recurse into,\u001b[39;00m\n\u001b[0;32m     <a href='file:///c%3A/Python310/lib/site-packages/easyAI/AI/Negamax.py?line=46'>47</a>\u001b[0m     \u001b[39m# so the smaller it is, the deeper we are in the negamax recursion.\u001b[39;00m\n\u001b[0;32m     <a href='file:///c%3A/Python310/lib/site-packages/easyAI/AI/Negamax.py?line=47'>48</a>\u001b[0m     \u001b[39m# Here we add 0.001 as a bonus to signify that victories in less turns\u001b[39;00m\n\u001b[0;32m     <a href='file:///c%3A/Python310/lib/site-packages/easyAI/AI/Negamax.py?line=48'>49</a>\u001b[0m     \u001b[39m# have more value than victories in many turns (and conversely, defeats\u001b[39;00m\n\u001b[0;32m     <a href='file:///c%3A/Python310/lib/site-packages/easyAI/AI/Negamax.py?line=49'>50</a>\u001b[0m     \u001b[39m# after many turns are preferred over defeats in less turns)\u001b[39;00m\n\u001b[0;32m     <a href='file:///c%3A/Python310/lib/site-packages/easyAI/AI/Negamax.py?line=50'>51</a>\u001b[0m     \u001b[39mreturn\u001b[39;00m scoring(game) \u001b[39m*\u001b[39m (\u001b[39m1\u001b[39m \u001b[39m+\u001b[39m \u001b[39m0.001\u001b[39m \u001b[39m*\u001b[39m depth)\n\u001b[0;32m     <a href='file:///c%3A/Python310/lib/site-packages/easyAI/AI/Negamax.py?line=52'>53</a>\u001b[0m \u001b[39mif\u001b[39;00m lookup \u001b[39mis\u001b[39;00m \u001b[39mnot\u001b[39;00m \u001b[39mNone\u001b[39;00m:\n\u001b[0;32m     <a href='file:///c%3A/Python310/lib/site-packages/easyAI/AI/Negamax.py?line=53'>54</a>\u001b[0m     \u001b[39m# Put the supposedly best move first in the list\u001b[39;00m\n",
      "\u001b[1;31mKeyboardInterrupt\u001b[0m: "
     ]
    }
   ],
   "source": [
    "if __name__ == \"__main__\":\n",
    "    # IN WHAT FOLLOWS WE SOLVE THE GAME AND START A MATCH AGAINST THE AI\n",
    "\n",
    "    from easyAI import AI_Player, Human_Player, Negamax, solve_with_iterative_deepening\n",
    "    from easyAI.AI import TranspositionTable\n",
    "\n",
    "    # we first solve the game\n",
    "    w, d, m, tt = solve_with_iterative_deepening(Nim(), range(5, 20), win_score=80)\n",
    "    w, d, len(tt.d)\n",
    "    # the previous line prints -1, 16 which shows that if the\n",
    "    # computer plays second with an AI depth of 16 (or 15) it will\n",
    "    # always win in 16 (total) moves or less.\n",
    "\n",
    "    # Now let's play (and lose !) against the AI\n",
    "    ai = Negamax(16, tt=TranspositionTable())\n",
    "    game = MissNim([Human_Player(), AI_Player(tt)])\n",
    "    game.play()  # You will always lose this game !\n",
    "    print(\"player %d wins\" % game.current_player)\n",
    "\n",
    "    # Note that with the transposition table tt generated by\n",
    "    # solve_with_iterative_deepening\n",
    "    # we can setup a perfect AI which doesn't have to think:\n",
    "    # >>> game = Nim( [ Human_Player(), AI_Player( tt )])\n",
    "    # >>> game.play() # You will always lose this game too!"
   ]
  }
 ],
 "metadata": {
  "colab": {
   "name": "easyAI.ipynb",
   "provenance": []
  },
  "kernelspec": {
   "display_name": "Python 3 (ipykernel)",
   "language": "python",
   "name": "python3"
  },
  "language_info": {
   "codemirror_mode": {
    "name": "ipython",
    "version": 3
   },
   "file_extension": ".py",
   "mimetype": "text/x-python",
   "name": "python",
   "nbconvert_exporter": "python",
   "pygments_lexer": "ipython3",
   "version": "3.10.4"
  }
 },
 "nbformat": 4,
 "nbformat_minor": 1
}
