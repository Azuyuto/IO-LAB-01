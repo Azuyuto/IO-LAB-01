{
 "cells": [
  {
   "attachments": {},
   "cell_type": "markdown",
   "metadata": {},
   "source": [
    "# Projekt 1 - Nimby - Paweł Malisz, Mikołaj Białek - Ocena: 5"
   ]
  },
  {
   "attachments": {},
   "cell_type": "markdown",
   "metadata": {},
   "source": [
    "## 1. Cel ćwiczenia\n",
    "\n",
    "Celem ćwiczenia jest modyfikacja zaproponowanej w bibliotece easyAI implementacji gry Nim, tak aby zawierała element losowy. Losowość polegać będzie na tym, że przy wykonywaniu ruchu jest 10. procentowe prawdopodobieństwo, że gracz bierze ze stosu o 1 elemetn mniej niż zamierzał. Zmodyfikowana gra zostanie wielokrotnie uruchomiona (w wersjach deterministycznej i probabilistycznej) z dwoma graczami AI, dla dwóch różnych głębokości, a otrzymane wyniki (ilość wygranych, przegranych, remisów) porównane. Następnie gra zostanie wielokrotnie uruchomiona dla dwóch różnych algorytmów (Negamax z i bez odcięcia alfa-beta) z dwoma ustawieniami maksymalnej głębokości. Wyniki zostaną porównane, a dodatkowo policzony zostanie średni czas spędzony na wybraniu akcji przez każdy wariant AI. Na końcu gra zostanie uruchomiona z algorytmem expecti-minimax z odcięciem alfa-beta, a jego wydajność zostanie porównana z wcześniej użytymi algorytmami."
   ]
  },
  {
   "attachments": {},
   "cell_type": "markdown",
   "metadata": {},
   "source": [
    "## 2. Opis problemu\n",
    "\n",
    "Nim to gra dla dwóch osób z użyciem pinonków, które dzieli się na kupki dowolnej wielkości. Następnie gracze zabierają na zmianę dowolną, niezerową liczbę pionków. W jednym ruchu można zebrać tylko z jednej kupki. Wygrywa gracz, który zabiera ostatni pionek.\n",
    "\n",
    "Przez naturę samej gry, jeśli obaj gracze grają optymalnie, można z góry stwierdzić, który z nich wygra. W takim razie więc, jeśli dla zadanej planszy, 2 algorytmy AI będą grały optymalnie zawsze wygra ten sam. Czy tak się realnie stanie zobaczymy później, po wykonaniu testów. Dodanie element losowego powinno zatem zmienić wyniki, w stosunku do wariantu deterministycznego gry. Testy będziemy przeprowadzać dla stałej planszy, składającej się z 4 kupek pionków o odpowiednich ilościach: 2, 3, 4, 5."
   ]
  },
  {
   "attachments": {},
   "cell_type": "markdown",
   "metadata": {},
   "source": [
    "## 3. Realizacja rozwiązania\n",
    "\n",
    "### Kod gry Nim z https://github.com/Zulko/easyAI\n",
    "Usunęliśmy funkcję `unmake_move` (funkcja ta pszyspiesza nieco działanie algorytmu, ale kiedy jest ona obecna niżej zaprezentowana przez nas wersja probabilistyczna gry nie działa) oraz dodaliśmy do konstruktora parametr `current_player`, tak aby dało się zmieniać gracza, rozpoczynającego rozgrywkę."
   ]
  },
  {
   "cell_type": "code",
   "execution_count": 1,
   "metadata": {
    "colab": {
     "base_uri": "https://localhost:8080/"
    },
    "id": "mM4EgRLIJusr",
    "outputId": "ded73f7d-ebfb-48b4-8c88-1453f33bda2d"
   },
   "outputs": [],
   "source": [
    "from easyAI import TwoPlayerGame\n",
    "\n",
    "\n",
    "class Nim(TwoPlayerGame):\n",
    "    \"\"\"\n",
    "    The game starts with 4 piles of 5 pieces. In turn the players\n",
    "    remove as much pieces as they want, but from one pile only. The\n",
    "    player that removes the last piece loses.\n",
    "    Parameters\n",
    "    ----------\n",
    "    players\n",
    "      List of the two players e.g. [HumanPlayer(), HumanPlayer()]\n",
    "    piles:\n",
    "      The piles the game starts with. With piles=[2,3,4,4] the\n",
    "      game will start with 1 pile of 2 pieces, 1 pile of 3 pieces, and 2\n",
    "      piles of 4 pieces.\n",
    "    max_removals_per_turn\n",
    "      Max number of pieces you can remove in a turn. Default is no limit.\n",
    "    \"\"\"\n",
    "\n",
    "    def __init__(self, players=None, max_removals_per_turn=None, piles=(2, 3, 4, 5), current_player=1):\n",
    "        \"\"\" Default for `piles` is 5 piles of 5 pieces. \"\"\"\n",
    "        self.players = players\n",
    "        self.piles = list(piles)\n",
    "        self.max_removals_per_turn = max_removals_per_turn\n",
    "        self.current_player = current_player\n",
    "\n",
    "    def possible_moves(self):\n",
    "        return [\n",
    "            \"%d,%d\" % (i + 1, j)\n",
    "            for i in range(len(self.piles))\n",
    "            for j in range(\n",
    "                1,\n",
    "                self.piles[i] + 1\n",
    "                if self.max_removals_per_turn is None\n",
    "                else min(self.piles[i] + 1, self.max_removals_per_turn),\n",
    "            )\n",
    "        ]\n",
    "\n",
    "    def make_move(self, move):\n",
    "        move = list(map(int, move.split(\",\")))\n",
    "        self.piles[move[0] - 1] -= move[1]\n",
    "\n",
    "    def show(self):\n",
    "        print(\" \".join(map(str, self.piles)))\n",
    "\n",
    "    def win(self):\n",
    "        return max(self.piles) == 0\n",
    "\n",
    "    def is_over(self):\n",
    "        return self.win()\n",
    "\n",
    "    def scoring(self):\n",
    "        return 100 if self.win() else 0\n",
    "\n",
    "    def ttentry(self):\n",
    "        return tuple(self.piles)  # optional, speeds up AI"
   ]
  },
  {
   "attachments": {},
   "cell_type": "markdown",
   "metadata": {},
   "source": [
    "### Wersja gry z 10% szansą wzięcia 1 elementu mniej niż zamierzano"
   ]
  },
  {
   "cell_type": "code",
   "execution_count": 2,
   "metadata": {},
   "outputs": [],
   "source": [
    "import random\n",
    "\n",
    "class MissNim(Nim):\n",
    "    def make_move(self, move):\n",
    "        move = list(map(int, move.split(\",\")))\n",
    "        m = move[1] - 1 if random.randint(1, 10) == 1 else move[1]\n",
    "        self.piles[move[0] - 1] -= m"
   ]
  },
  {
   "attachments": {},
   "cell_type": "markdown",
   "metadata": {},
   "source": [
    "## Rozegranie gry\n",
    "\n",
    "Funkcja pomocnicza odpowiadająca za uruchamienie daną ilość razy (`how_many_times`), danej gry (`game_type`), z danym algorytmem AI (`ai_algorithm`) i daną głębokością (`depth`). Co wykonanie zmienia gracza rozpoczynającego."
   ]
  },
  {
   "cell_type": "code",
   "execution_count": 3,
   "metadata": {},
   "outputs": [],
   "source": [
    "from easyAI import AI_Player, Negamax\n",
    "\n",
    "def play_nim(how_many_times, game_type, ai_algorithm, depth):\n",
    "    ai = ai_algorithm(depth)\n",
    "    for i in range(how_many_times):\n",
    "        game = game_type([AI_Player(ai), AI_Player(ai)], current_player=i%2+1)\n",
    "        game.play()\n",
    "        print(\"player %d wins\" % game.current_player)"
   ]
  },
  {
   "attachments": {},
   "cell_type": "markdown",
   "metadata": {},
   "source": [
    "Najpierw uruchamiamy grę 10 razy w wersji deterministycznej oraz 10 razy w wersji probabilistycznej z algorytmem Negamax (głębokość ustawiona na 2). Następnie powtarzamy eksperyment z głębokością ustawioną na 5."
   ]
  },
  {
   "cell_type": "code",
   "execution_count": 4,
   "metadata": {},
   "outputs": [
    {
     "ename": "TypeError",
     "evalue": "Nim.__init__() got an unexpected keyword argument 'current_player'",
     "output_type": "error",
     "traceback": [
      "\u001b[1;31m---------------------------------------------------------------------------\u001b[0m",
      "\u001b[1;31mTypeError\u001b[0m                                 Traceback (most recent call last)",
      "\u001b[1;32mc:\\Source\\Repos\\IO-LAB-01\\projekt1_nim_pawel_malisz_mikolaj_bialek_5.ipynb Cell 11\u001b[0m in \u001b[0;36m<cell line: 1>\u001b[1;34m()\u001b[0m\n\u001b[1;32m----> <a href='vscode-notebook-cell:/c%3A/Source/Repos/IO-LAB-01/projekt1_nim_pawel_malisz_mikolaj_bialek_5.ipynb#X13sZmlsZQ%3D%3D?line=0'>1</a>\u001b[0m play_nim(\u001b[39m10\u001b[39;49m, Nim, Negamax, \u001b[39m2\u001b[39;49m)\n\u001b[0;32m      <a href='vscode-notebook-cell:/c%3A/Source/Repos/IO-LAB-01/projekt1_nim_pawel_malisz_mikolaj_bialek_5.ipynb#X13sZmlsZQ%3D%3D?line=1'>2</a>\u001b[0m play_nim(\u001b[39m10\u001b[39m, MissNim, Negamax, \u001b[39m2\u001b[39m)\n\u001b[0;32m      <a href='vscode-notebook-cell:/c%3A/Source/Repos/IO-LAB-01/projekt1_nim_pawel_malisz_mikolaj_bialek_5.ipynb#X13sZmlsZQ%3D%3D?line=2'>3</a>\u001b[0m play_nim(\u001b[39m10\u001b[39m, Nim, Negamax, \u001b[39m5\u001b[39m)\n",
      "\u001b[1;32mc:\\Source\\Repos\\IO-LAB-01\\projekt1_nim_pawel_malisz_mikolaj_bialek_5.ipynb Cell 11\u001b[0m in \u001b[0;36mplay_nim\u001b[1;34m(how_many_times, game_type, ai_algorithm, depth)\u001b[0m\n\u001b[0;32m      <a href='vscode-notebook-cell:/c%3A/Source/Repos/IO-LAB-01/projekt1_nim_pawel_malisz_mikolaj_bialek_5.ipynb#X13sZmlsZQ%3D%3D?line=3'>4</a>\u001b[0m ai \u001b[39m=\u001b[39m ai_algorithm(depth)\n\u001b[0;32m      <a href='vscode-notebook-cell:/c%3A/Source/Repos/IO-LAB-01/projekt1_nim_pawel_malisz_mikolaj_bialek_5.ipynb#X13sZmlsZQ%3D%3D?line=4'>5</a>\u001b[0m \u001b[39mfor\u001b[39;00m i \u001b[39min\u001b[39;00m \u001b[39mrange\u001b[39m(how_many_times):\n\u001b[1;32m----> <a href='vscode-notebook-cell:/c%3A/Source/Repos/IO-LAB-01/projekt1_nim_pawel_malisz_mikolaj_bialek_5.ipynb#X13sZmlsZQ%3D%3D?line=5'>6</a>\u001b[0m     game \u001b[39m=\u001b[39m game_type([AI_Player(ai), AI_Player(ai)], current_player\u001b[39m=\u001b[39;49mi\u001b[39m%\u001b[39;49m\u001b[39m2\u001b[39;49m\u001b[39m+\u001b[39;49m\u001b[39m1\u001b[39;49m)\n\u001b[0;32m      <a href='vscode-notebook-cell:/c%3A/Source/Repos/IO-LAB-01/projekt1_nim_pawel_malisz_mikolaj_bialek_5.ipynb#X13sZmlsZQ%3D%3D?line=6'>7</a>\u001b[0m     game\u001b[39m.\u001b[39mplay()\n\u001b[0;32m      <a href='vscode-notebook-cell:/c%3A/Source/Repos/IO-LAB-01/projekt1_nim_pawel_malisz_mikolaj_bialek_5.ipynb#X13sZmlsZQ%3D%3D?line=7'>8</a>\u001b[0m     \u001b[39mprint\u001b[39m(\u001b[39m\"\u001b[39m\u001b[39mplayer \u001b[39m\u001b[39m%d\u001b[39;00m\u001b[39m wins\u001b[39m\u001b[39m\"\u001b[39m \u001b[39m%\u001b[39m game\u001b[39m.\u001b[39mcurrent_player)\n",
      "\u001b[1;31mTypeError\u001b[0m: Nim.__init__() got an unexpected keyword argument 'current_player'"
     ]
    }
   ],
   "source": [
    "play_nim(10, Nim, Negamax, 2)\n",
    "play_nim(10, MissNim, Negamax, 2)\n",
    "play_nim(10, Nim, Negamax, 5)\n",
    "play_nim(10, MissNim, Negamax, 5)"
   ]
  }
 ],
 "metadata": {
  "colab": {
   "name": "easyAI.ipynb",
   "provenance": []
  },
  "kernelspec": {
   "display_name": "Python 3",
   "language": "python",
   "name": "python3"
  },
  "language_info": {
   "codemirror_mode": {
    "name": "ipython",
    "version": 3
   },
   "file_extension": ".py",
   "mimetype": "text/x-python",
   "name": "python",
   "nbconvert_exporter": "python",
   "pygments_lexer": "ipython3",
   "version": "3.10.4"
  },
  "vscode": {
   "interpreter": {
    "hash": "0d480406dd8a32d22dc75985cac8e1211765e55c9913550b2d5a12bfc4726c1d"
   }
  }
 },
 "nbformat": 4,
 "nbformat_minor": 1
}
